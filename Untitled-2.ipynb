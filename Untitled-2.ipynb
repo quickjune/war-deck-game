{
 "cells": [
  {
   "cell_type": "code",
   "execution_count": 50,
   "metadata": {},
   "outputs": [],
   "source": [
    "class Card:\n",
    "    def __init__(self,suit,rank):\n",
    "        self.suit = suit\n",
    "        self.rank = rank\n",
    "\n",
    "    def __str__(self):\n",
    "        return self.rank  + \"of\"  + self.suit"
   ]
  },
  {
   "cell_type": "code",
   "execution_count": 51,
   "metadata": {},
   "outputs": [],
   "source": [
    "two_hearts = Card(\"Hearts\",\"Two\")"
   ]
  },
  {
   "cell_type": "code",
   "execution_count": 52,
   "metadata": {},
   "outputs": [
    {
     "name": "stdout",
     "output_type": "stream",
     "text": [
      "TwoofHearts\n"
     ]
    }
   ],
   "source": [
    " print(two_hearts)"
   ]
  },
  {
   "cell_type": "code",
   "execution_count": 53,
   "metadata": {},
   "outputs": [],
   "source": [
    "import random\n",
    "suits = ('Hearts', 'Diamonds', 'Spades', 'Clubs')\n",
    "ranks = ('Two', 'Three', 'Four', 'Five', 'Six', 'Seven', 'Eight', 'Nine', 'Ten', 'Jack', 'Queen', 'King', 'Ace')\n",
    "values = {'Two':2, 'Three':3, 'Four':4, 'Five':5, 'Six':6, 'Seven':7, 'Eight':8, \n",
    "            'Nine':9, 'Ten':10, 'Jack':11, 'Queen':12, 'King':13, 'Ace':14}"
   ]
  },
  {
   "cell_type": "code",
   "execution_count": 54,
   "metadata": {},
   "outputs": [],
   "source": [
    "class Card:\n",
    "    def __init__(self, suit, rank):\n",
    "        self.suit = suit\n",
    "        self.rank = rank\n",
    "        self.value = values[rank]\n",
    "\n",
    "    def __str__(self):\n",
    "        return self.rank + ' of ' + self.suit\n"
   ]
  },
  {
   "cell_type": "code",
   "execution_count": 55,
   "metadata": {},
   "outputs": [],
   "source": [
    "three_of_clubs  = Card(\"Clubs\",\"Three\")"
   ]
  },
  {
   "cell_type": "code",
   "execution_count": 56,
   "metadata": {},
   "outputs": [
    {
     "data": {
      "text/plain": [
       "3"
      ]
     },
     "execution_count": 56,
     "metadata": {},
     "output_type": "execute_result"
    }
   ],
   "source": [
    "three_of_clubs.value"
   ]
  },
  {
   "cell_type": "code",
   "execution_count": 57,
   "metadata": {},
   "outputs": [],
   "source": [
    "two_hearts = Card('Hearts','Two')\n"
   ]
  },
  {
   "cell_type": "code",
   "execution_count": 58,
   "metadata": {},
   "outputs": [
    {
     "data": {
      "text/plain": [
       "'Hearts'"
      ]
     },
     "execution_count": 58,
     "metadata": {},
     "output_type": "execute_result"
    }
   ],
   "source": [
    "two_hearts.suit"
   ]
  },
  {
   "cell_type": "code",
   "execution_count": 59,
   "metadata": {},
   "outputs": [
    {
     "data": {
      "text/plain": [
       "'Two'"
      ]
     },
     "execution_count": 59,
     "metadata": {},
     "output_type": "execute_result"
    }
   ],
   "source": [
    "two_hearts.rank"
   ]
  },
  {
   "cell_type": "code",
   "execution_count": 60,
   "metadata": {},
   "outputs": [
    {
     "data": {
      "text/plain": [
       "2"
      ]
     },
     "execution_count": 60,
     "metadata": {},
     "output_type": "execute_result"
    }
   ],
   "source": [
    "two_hearts.value"
   ]
  },
  {
   "cell_type": "code",
   "execution_count": 61,
   "metadata": {},
   "outputs": [
    {
     "data": {
      "text/plain": [
       "True"
      ]
     },
     "execution_count": 61,
     "metadata": {},
     "output_type": "execute_result"
    }
   ],
   "source": [
    "two_hearts.value < three_of_clubs.value"
   ]
  },
  {
   "cell_type": "code",
   "execution_count": 62,
   "metadata": {},
   "outputs": [],
   "source": [
    "class Deck:\n",
    "\n",
    "    def __init__(self):\n",
    "        self.all_cards = []\n",
    "\n",
    "        for suit in suits:\n",
    "            for rank in ranks:\n",
    "                created_card = Card(suit,rank)\n",
    "                self.all_cards.append(created_card)\n",
    "\n",
    "\n",
    "    def shuffle(self):\n",
    "        random.shuffle(self.all_cards)\n",
    "\n",
    "    def deal_one(self):\n",
    "        return self.all_cards.pop()\n",
    "\n",
    "        "
   ]
  },
  {
   "cell_type": "code",
   "execution_count": 63,
   "metadata": {},
   "outputs": [],
   "source": [
    "new_deck = Deck()"
   ]
  },
  {
   "cell_type": "code",
   "execution_count": null,
   "metadata": {},
   "outputs": [],
   "source": []
  },
  {
   "cell_type": "code",
   "execution_count": null,
   "metadata": {},
   "outputs": [],
   "source": []
  },
  {
   "cell_type": "code",
   "execution_count": null,
   "metadata": {},
   "outputs": [],
   "source": []
  },
  {
   "cell_type": "code",
   "execution_count": 64,
   "metadata": {},
   "outputs": [],
   "source": [
    "first_card = new_deck.all_cards[0]"
   ]
  },
  {
   "cell_type": "code",
   "execution_count": 65,
   "metadata": {},
   "outputs": [
    {
     "name": "stdout",
     "output_type": "stream",
     "text": [
      "Two of Hearts\n"
     ]
    }
   ],
   "source": [
    "print(first_card)"
   ]
  },
  {
   "cell_type": "code",
   "execution_count": 66,
   "metadata": {},
   "outputs": [],
   "source": [
    "bottom_card = new_deck.all_cards[-1]"
   ]
  },
  {
   "cell_type": "code",
   "execution_count": 67,
   "metadata": {},
   "outputs": [
    {
     "name": "stdout",
     "output_type": "stream",
     "text": [
      "Ace of Clubs\n"
     ]
    }
   ],
   "source": [
    "print(bottom_card)"
   ]
  },
  {
   "cell_type": "code",
   "execution_count": 68,
   "metadata": {},
   "outputs": [],
   "source": [
    "new_deck.shuffle()"
   ]
  },
  {
   "cell_type": "code",
   "execution_count": 69,
   "metadata": {},
   "outputs": [
    {
     "name": "stdout",
     "output_type": "stream",
     "text": [
      "Four of Clubs\n",
      "King of Spades\n",
      "Jack of Clubs\n",
      "Nine of Hearts\n",
      "Jack of Hearts\n",
      "King of Diamonds\n",
      "Six of Hearts\n",
      "Jack of Spades\n",
      "Two of Spades\n",
      "Eight of Hearts\n",
      "Nine of Spades\n",
      "Ace of Diamonds\n",
      "Three of Spades\n",
      "Eight of Diamonds\n",
      "Queen of Diamonds\n",
      "Queen of Clubs\n",
      "Six of Spades\n",
      "King of Hearts\n",
      "Ten of Clubs\n",
      "Seven of Clubs\n",
      "Ten of Diamonds\n",
      "Seven of Hearts\n",
      "Ten of Hearts\n",
      "Four of Diamonds\n",
      "Seven of Diamonds\n",
      "Ace of Hearts\n",
      "Three of Clubs\n",
      "Jack of Diamonds\n",
      "Queen of Spades\n",
      "Nine of Clubs\n",
      "Ten of Spades\n",
      "Eight of Clubs\n",
      "Six of Diamonds\n",
      "Seven of Spades\n",
      "Four of Hearts\n",
      "Four of Spades\n",
      "Three of Diamonds\n",
      "Five of Hearts\n",
      "Two of Clubs\n",
      "Queen of Hearts\n",
      "Two of Diamonds\n",
      "Ace of Spades\n",
      "Three of Hearts\n",
      "King of Clubs\n",
      "Six of Clubs\n",
      "Nine of Diamonds\n",
      "Two of Hearts\n",
      "Ace of Clubs\n",
      "Five of Spades\n",
      "Eight of Spades\n",
      "Five of Clubs\n",
      "Five of Diamonds\n"
     ]
    }
   ],
   "source": [
    "for card_object in new_deck.all_cards:\n",
    "    print(card_object)\n"
   ]
  },
  {
   "cell_type": "code",
   "execution_count": 70,
   "metadata": {},
   "outputs": [],
   "source": [
    "mycard = new_deck.deal_one()"
   ]
  },
  {
   "cell_type": "code",
   "execution_count": 71,
   "metadata": {},
   "outputs": [
    {
     "name": "stdout",
     "output_type": "stream",
     "text": [
      "Five of Diamonds\n"
     ]
    }
   ],
   "source": [
    "print(mycard)"
   ]
  },
  {
   "cell_type": "code",
   "execution_count": 72,
   "metadata": {},
   "outputs": [
    {
     "data": {
      "text/plain": [
       "51"
      ]
     },
     "execution_count": 72,
     "metadata": {},
     "output_type": "execute_result"
    }
   ],
   "source": [
    "len(new_deck.all_cards)"
   ]
  },
  {
   "cell_type": "code",
   "execution_count": 73,
   "metadata": {},
   "outputs": [],
   "source": [
    "class Player:\n",
    "    def __init__(self,name):\n",
    "        self.name = name\n",
    "        self.all_cards = []\n",
    "\n",
    "    def remove_one(self):\n",
    "        return self.all_cards.pop(0)\n",
    "\n",
    "    def add_cards(self,new_cards):\n",
    "        if type(new_cards) == type([]):\n",
    "            self.all_cards.extend(new_cards)\n",
    "        else:\n",
    "            self.all_cards.append(new_cards)\n",
    "\n",
    "    def __str__(self):\n",
    "        return f'Player {self.name} has {len(self.all_cards)} cards.'"
   ]
  },
  {
   "cell_type": "code",
   "execution_count": 74,
   "metadata": {},
   "outputs": [],
   "source": [
    "new_player = Player('Arjun')"
   ]
  },
  {
   "cell_type": "code",
   "execution_count": 75,
   "metadata": {},
   "outputs": [
    {
     "name": "stdout",
     "output_type": "stream",
     "text": [
      "Player Arjun has 0 cards.\n"
     ]
    }
   ],
   "source": [
    "print(new_player)"
   ]
  },
  {
   "cell_type": "code",
   "execution_count": 76,
   "metadata": {},
   "outputs": [],
   "source": [
    "new_player.add_cards(mycard)"
   ]
  },
  {
   "cell_type": "code",
   "execution_count": 77,
   "metadata": {},
   "outputs": [
    {
     "name": "stdout",
     "output_type": "stream",
     "text": [
      "Five of Diamonds\n"
     ]
    }
   ],
   "source": [
    "print(mycard)"
   ]
  },
  {
   "cell_type": "code",
   "execution_count": 78,
   "metadata": {},
   "outputs": [
    {
     "name": "stdout",
     "output_type": "stream",
     "text": [
      "Five of Diamonds\n"
     ]
    }
   ],
   "source": [
    "print(new_player.all_cards[0])"
   ]
  },
  {
   "cell_type": "code",
   "execution_count": 79,
   "metadata": {},
   "outputs": [],
   "source": [
    "new_player.add_cards([mycard,mycard,mycard])"
   ]
  },
  {
   "cell_type": "code",
   "execution_count": 80,
   "metadata": {},
   "outputs": [
    {
     "name": "stdout",
     "output_type": "stream",
     "text": [
      "Player Arjun has 4 cards.\n"
     ]
    }
   ],
   "source": [
    "print(new_player)"
   ]
  },
  {
   "cell_type": "code",
   "execution_count": 81,
   "metadata": {},
   "outputs": [
    {
     "data": {
      "text/plain": [
       "<__main__.Card at 0x1bf3c9f0c40>"
      ]
     },
     "execution_count": 81,
     "metadata": {},
     "output_type": "execute_result"
    }
   ],
   "source": [
    "new_player.remove_one()"
   ]
  },
  {
   "cell_type": "code",
   "execution_count": 82,
   "metadata": {},
   "outputs": [
    {
     "name": "stdout",
     "output_type": "stream",
     "text": [
      "Player Arjun has 3 cards.\n"
     ]
    }
   ],
   "source": [
    "print(new_player)"
   ]
  },
  {
   "cell_type": "code",
   "execution_count": 94,
   "metadata": {},
   "outputs": [],
   "source": [
    "player_one = Player('One')\n",
    "player_two = Player(\"Two\")\n",
    "\n",
    "new_deck = Deck()\n",
    "new_deck.shuffle()\n",
    "\n",
    "for x in range(26):\n",
    "    player_one.add_cards(new_deck.deal_one())\n",
    "    player_two.add_cards(new_deck.deal_one())"
   ]
  },
  {
   "cell_type": "code",
   "execution_count": 95,
   "metadata": {},
   "outputs": [
    {
     "name": "stdout",
     "output_type": "stream",
     "text": [
      "Six of Clubs\n"
     ]
    }
   ],
   "source": [
    "print(player_one.all_cards[0])"
   ]
  },
  {
   "cell_type": "code",
   "execution_count": 96,
   "metadata": {},
   "outputs": [],
   "source": [
    "game_on = True"
   ]
  },
  {
   "cell_type": "code",
   "execution_count": 97,
   "metadata": {},
   "outputs": [
    {
     "name": "stdout",
     "output_type": "stream",
     "text": [
      "round 1037\n",
      "round 1038\n",
      "round 1039\n",
      "round 1040\n",
      "round 1041\n",
      "round 1042\n",
      "WAR!\n",
      "round 1043\n",
      "round 1044\n",
      "round 1045\n",
      "round 1046\n",
      "round 1047\n",
      "round 1048\n",
      "round 1049\n",
      "round 1050\n",
      "round 1051\n",
      "round 1052\n",
      "round 1053\n",
      "round 1054\n",
      "round 1055\n",
      "round 1056\n",
      "round 1057\n",
      "round 1058\n",
      "round 1059\n",
      "round 1060\n",
      "round 1061\n",
      "round 1062\n",
      "round 1063\n",
      "round 1064\n",
      "round 1065\n",
      "round 1066\n",
      "round 1067\n",
      "round 1068\n",
      "round 1069\n",
      "round 1070\n",
      "round 1071\n",
      "round 1072\n",
      "round 1073\n",
      "round 1074\n",
      "round 1075\n",
      "round 1076\n",
      "round 1077\n",
      "round 1078\n",
      "round 1079\n",
      "round 1080\n",
      "round 1081\n",
      "round 1082\n",
      "round 1083\n",
      "round 1084\n",
      "round 1085\n",
      "round 1086\n",
      "round 1087\n",
      "round 1088\n",
      "round 1089\n",
      "round 1090\n",
      "round 1091\n",
      "round 1092\n",
      "round 1093\n",
      "round 1094\n",
      "round 1095\n",
      "round 1096\n",
      "round 1097\n",
      "round 1098\n",
      "round 1099\n",
      "round 1100\n",
      "round 1101\n",
      "round 1102\n",
      "round 1103\n",
      "round 1104\n",
      "round 1105\n",
      "round 1106\n",
      "round 1107\n",
      "round 1108\n",
      "round 1109\n",
      "round 1110\n",
      "round 1111\n",
      "round 1112\n",
      "round 1113\n",
      "round 1114\n",
      "round 1115\n",
      "round 1116\n",
      "round 1117\n",
      "round 1118\n",
      "round 1119\n",
      "round 1120\n",
      "round 1121\n",
      "round 1122\n",
      "round 1123\n",
      "round 1124\n",
      "round 1125\n",
      "round 1126\n",
      "round 1127\n",
      "round 1128\n",
      "round 1129\n",
      "round 1130\n",
      "round 1131\n",
      "WAR!\n",
      "round 1132\n",
      "round 1133\n",
      "round 1134\n",
      "round 1135\n",
      "round 1136\n",
      "round 1137\n",
      "round 1138\n",
      "round 1139\n",
      "round 1140\n",
      "round 1141\n",
      "round 1142\n",
      "round 1143\n",
      "round 1144\n",
      "round 1145\n",
      "round 1146\n",
      "round 1147\n",
      "round 1148\n",
      "round 1149\n",
      "round 1150\n",
      "round 1151\n",
      "round 1152\n",
      "round 1153\n",
      "round 1154\n",
      "round 1155\n",
      "round 1156\n",
      "round 1157\n",
      "round 1158\n",
      "round 1159\n",
      "round 1160\n",
      "round 1161\n",
      "round 1162\n",
      "round 1163\n",
      "round 1164\n",
      "round 1165\n",
      "round 1166\n",
      "round 1167\n",
      "round 1168\n",
      "round 1169\n",
      "round 1170\n",
      "round 1171\n",
      "round 1172\n",
      "round 1173\n",
      "round 1174\n",
      "round 1175\n",
      "round 1176\n",
      "round 1177\n",
      "round 1178\n",
      "round 1179\n",
      "round 1180\n",
      "round 1181\n",
      "round 1182\n",
      "round 1183\n",
      "round 1184\n",
      "round 1185\n",
      "round 1186\n",
      "round 1187\n",
      "round 1188\n",
      "round 1189\n",
      "round 1190\n",
      "round 1191\n",
      "round 1192\n",
      "round 1193\n",
      "round 1194\n",
      "round 1195\n",
      "round 1196\n",
      "round 1197\n",
      "round 1198\n",
      "round 1199\n",
      "round 1200\n",
      "WAR!\n",
      "round 1201\n",
      "round 1202\n",
      "round 1203\n",
      "round 1204\n",
      "round 1205\n",
      "round 1206\n",
      "round 1207\n",
      "round 1208\n",
      "round 1209\n",
      "round 1210\n",
      "round 1211\n",
      "round 1212\n",
      "round 1213\n",
      "round 1214\n",
      "round 1215\n",
      "round 1216\n",
      "round 1217\n",
      "round 1218\n",
      "round 1219\n",
      "round 1220\n",
      "round 1221\n",
      "round 1222\n",
      "round 1223\n",
      "round 1224\n",
      "round 1225\n",
      "round 1226\n",
      "round 1227\n",
      "round 1228\n",
      "round 1229\n",
      "round 1230\n",
      "round 1231\n",
      "round 1232\n",
      "round 1233\n",
      "round 1234\n",
      "round 1235\n",
      "round 1236\n",
      "round 1237\n",
      "round 1238\n",
      "round 1239\n",
      "round 1240\n",
      "round 1241\n",
      "round 1242\n",
      "round 1243\n",
      "round 1244\n",
      "round 1245\n",
      "round 1246\n",
      "round 1247\n",
      "round 1248\n",
      "round 1249\n",
      "round 1250\n",
      "round 1251\n",
      "round 1252\n",
      "round 1253\n",
      "round 1254\n",
      "round 1255\n",
      "round 1256\n",
      "round 1257\n",
      "round 1258\n",
      "round 1259\n",
      "round 1260\n",
      "round 1261\n",
      "round 1262\n",
      "round 1263\n",
      "round 1264\n",
      "round 1265\n",
      "round 1266\n",
      "round 1267\n",
      "round 1268\n",
      "round 1269\n",
      "round 1270\n",
      "round 1271\n",
      "round 1272\n",
      "round 1273\n",
      "round 1274\n",
      "round 1275\n",
      "round 1276\n",
      "round 1277\n",
      "round 1278\n",
      "round 1279\n",
      "round 1280\n",
      "round 1281\n",
      "round 1282\n",
      "round 1283\n",
      "round 1284\n",
      "round 1285\n",
      "round 1286\n",
      "round 1287\n",
      "round 1288\n",
      "round 1289\n",
      "round 1290\n",
      "round 1291\n",
      "round 1292\n",
      "round 1293\n",
      "round 1294\n",
      "round 1295\n",
      "round 1296\n",
      "round 1297\n",
      "round 1298\n",
      "round 1299\n",
      "round 1300\n",
      "round 1301\n",
      "round 1302\n",
      "round 1303\n",
      "round 1304\n",
      "round 1305\n",
      "round 1306\n",
      "round 1307\n",
      "round 1308\n",
      "round 1309\n",
      "round 1310\n",
      "round 1311\n",
      "round 1312\n",
      "round 1313\n",
      "round 1314\n",
      "round 1315\n",
      "round 1316\n",
      "round 1317\n",
      "round 1318\n",
      "round 1319\n",
      "round 1320\n",
      "round 1321\n",
      "round 1322\n",
      "round 1323\n",
      "round 1324\n",
      "round 1325\n",
      "round 1326\n",
      "round 1327\n",
      "round 1328\n",
      "round 1329\n",
      "round 1330\n",
      "round 1331\n",
      "round 1332\n",
      "round 1333\n",
      "round 1334\n",
      "round 1335\n",
      "round 1336\n",
      "round 1337\n",
      "round 1338\n",
      "round 1339\n",
      "round 1340\n",
      "round 1341\n",
      "round 1342\n",
      "round 1343\n",
      "round 1344\n",
      "round 1345\n",
      "round 1346\n",
      "round 1347\n",
      "WAR!\n",
      "round 1348\n",
      "round 1349\n",
      "round 1350\n",
      "round 1351\n",
      "round 1352\n",
      "round 1353\n",
      "round 1354\n",
      "round 1355\n",
      "round 1356\n",
      "round 1357\n",
      "round 1358\n",
      "round 1359\n",
      "round 1360\n",
      "round 1361\n",
      "round 1362\n",
      "round 1363\n",
      "round 1364\n",
      "round 1365\n",
      "round 1366\n",
      "round 1367\n",
      "round 1368\n",
      "round 1369\n",
      "round 1370\n",
      "round 1371\n",
      "round 1372\n",
      "round 1373\n",
      "round 1374\n",
      "round 1375\n",
      "round 1376\n",
      "round 1377\n",
      "round 1378\n",
      "round 1379\n",
      "round 1380\n",
      "round 1381\n",
      "round 1382\n",
      "round 1383\n",
      "round 1384\n",
      "round 1385\n",
      "round 1386\n",
      "round 1387\n",
      "round 1388\n",
      "round 1389\n",
      "round 1390\n",
      "round 1391\n",
      "round 1392\n",
      "round 1393\n",
      "round 1394\n",
      "round 1395\n",
      "round 1396\n",
      "round 1397\n",
      "round 1398\n",
      "round 1399\n",
      "round 1400\n",
      "round 1401\n",
      "round 1402\n",
      "round 1403\n",
      "round 1404\n",
      "round 1405\n",
      "round 1406\n",
      "round 1407\n",
      "round 1408\n",
      "round 1409\n",
      "round 1410\n",
      "round 1411\n",
      "round 1412\n",
      "round 1413\n",
      "round 1414\n",
      "round 1415\n",
      "round 1416\n",
      "round 1417\n",
      "WAR!\n",
      "round 1418\n",
      "round 1419\n",
      "WAR!\n",
      "Player 2 Unable to declare war\n",
      "Player 1 Wins!!\n"
     ]
    }
   ],
   "source": [
    "round_num == 0\n",
    "\n",
    "while game_on:\n",
    "\n",
    "    round_num += 1\n",
    "    print(f\"round {round_num}\")\n",
    "\n",
    "    if len(player_one.all_cards) == 0:\n",
    "        print(\"Player 1 is Out of Cards! player 2 wins!\")\n",
    "        game_on = False\n",
    "        break\n",
    "\n",
    "    if len(player_two.all_cards) == 0:\n",
    "        print(\"player 2 is out of cards! Player 1 Wins!\")\n",
    "        game_on = False\n",
    "        break\n",
    "\n",
    "    #STart new round\n",
    "    player_one_cards = []\n",
    "    player_one_cards.append(player_one.remove_one())\n",
    "\n",
    "    player_two_cards = []\n",
    "    player_two_cards.append(player_two.remove_one())\n",
    "\n",
    "    at_war = True\n",
    "\n",
    "    while at_war:\n",
    "\n",
    "        if player_one_cards[-1].value > player_two_cards[-1].value:\n",
    "            player_one.add_cards(player_one_cards)\n",
    "            player_one.add_cards(player_two_cards)\n",
    "            at_war = False\n",
    "        \n",
    "        elif player_one_cards[-1].value < player_two_cards[-1].value:\n",
    "            player_two.add_cards(player_one_cards)\n",
    "            player_two.add_cards(player_two_cards)\n",
    "            at_war = False\n",
    "\n",
    "        else:\n",
    "            print(\"WAR!\")\n",
    "\n",
    "            if len(player_one.all_cards) < 5:\n",
    "                print('Player one Unable to declare war')\n",
    "                print(\"Player 2 Wins!!\")\n",
    "                game_on = False\n",
    "                break\n",
    "            \n",
    "            elif len(player_two.all_cards) < 5:\n",
    "                print('Player 2 Unable to declare war')\n",
    "                print('Player 1 Wins!!')\n",
    "                game_on  =False\n",
    "                break\n",
    "\n",
    "            else:\n",
    "                for num in  range(5):\n",
    "                    player_one_cards.append(player_one.remove_one())\n",
    "                    player_two_cards.append(player_two.remove_one())"
   ]
  },
  {
   "cell_type": "code",
   "execution_count": null,
   "metadata": {},
   "outputs": [],
   "source": []
  },
  {
   "cell_type": "code",
   "execution_count": null,
   "metadata": {},
   "outputs": [],
   "source": []
  }
 ],
 "metadata": {
  "kernelspec": {
   "display_name": "base",
   "language": "python",
   "name": "python3"
  },
  "language_info": {
   "codemirror_mode": {
    "name": "ipython",
    "version": 3
   },
   "file_extension": ".py",
   "mimetype": "text/x-python",
   "name": "python",
   "nbconvert_exporter": "python",
   "pygments_lexer": "ipython3",
   "version": "3.10.9"
  },
  "orig_nbformat": 4
 },
 "nbformat": 4,
 "nbformat_minor": 2
}
